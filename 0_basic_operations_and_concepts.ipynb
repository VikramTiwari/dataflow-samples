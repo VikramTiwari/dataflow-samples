{
 "cells": [
  {
   "cell_type": "code",
   "execution_count": null,
   "metadata": {
    "collapsed": false
   },
   "outputs": [],
   "source": [
    "# should update before starting anything so that you are always up to date with latest features and bug fixes\n",
    "# !pip install -U apache-beam"
   ]
  },
  {
   "cell_type": "markdown",
   "metadata": {},
   "source": [
    "Programming model of dataflow is now being improved and built as Beam under Apache and we will be using that to build our pipelines so that with minimal configuration changes we can run them anywhere. Google Cloud Dataflow is the recommended service to use."
   ]
  },
  {
   "cell_type": "code",
   "execution_count": 53,
   "metadata": {
    "collapsed": false
   },
   "outputs": [],
   "source": [
    "import apache_beam as beam"
   ]
  },
  {
   "cell_type": "markdown",
   "metadata": {},
   "source": [
    "The programming model is quite simple. First draw what you wanna do and then just run that graph. Using elements of beam we create a Directed Acyclic Graph (DAG) which as term indicates will control the flow of data which we want to process. The whole graph is stored as a pipeline and various nodes are added to make that pipeline (graph) more custom."
   ]
  },
  {
   "cell_type": "code",
   "execution_count": 45,
   "metadata": {
    "collapsed": false
   },
   "outputs": [],
   "source": [
    "# Create a pipeline object using a local runner for execution.\n",
    "p = beam.Pipeline('DirectRunner')"
   ]
  },
  {
   "cell_type": "code",
   "execution_count": 46,
   "metadata": {
    "collapsed": false
   },
   "outputs": [],
   "source": [
    "# Add to the pipeline a \"Create\" transform. When executed this\n",
    "# transform will produce a PCollection object with the specified values.\n",
    "pcoll = p | 'create' >> beam.Create([1, 2, 3])"
   ]
  },
  {
   "cell_type": "code",
   "execution_count": 47,
   "metadata": {
    "collapsed": false
   },
   "outputs": [
    {
     "data": {
      "text/plain": [
       "<PCollection[write/Write/WriteImpl/finalize_write.None] at 0x7f8aec562090>"
      ]
     },
     "execution_count": 47,
     "metadata": {},
     "output_type": "execute_result"
    }
   ],
   "source": [
    "# Another transform could be applied to pcoll, e.g., writing to a text file.\n",
    "# For other transforms, refer to transforms/ directory.\n",
    "pcoll | 'write' >> beam.io.WriteToText('./output')"
   ]
  },
  {
   "cell_type": "markdown",
   "metadata": {},
   "source": [
    "Now that the pipeline is ready, running it is even easier."
   ]
  },
  {
   "cell_type": "code",
   "execution_count": 54,
   "metadata": {
    "collapsed": false
   },
   "outputs": [
    {
     "data": {
      "text/plain": [
       "<apache_beam.runners.direct.direct_runner.DirectPipelineResult at 0x7f8aec5a5d90>"
      ]
     },
     "execution_count": 54,
     "metadata": {},
     "output_type": "execute_result"
    }
   ],
   "source": [
    "# run() will execute the DAG stored in the pipeline.  The execution of the\n",
    "# nodes visited is done using the specified local runner.\n",
    "p.run()"
   ]
  },
  {
   "cell_type": "markdown",
   "metadata": {},
   "source": [
    "Let's confirm that we have some result out of pipeline"
   ]
  },
  {
   "cell_type": "code",
   "execution_count": 57,
   "metadata": {
    "collapsed": false
   },
   "outputs": [
    {
     "name": "stdout",
     "output_type": "stream",
     "text": [
      "total 16K\n",
      "-rw-r--r-- 1 root root 4.5K Apr 14 07:49 0_basic_operations_and_concepts.ipynb\n",
      "-rw-r--r-- 1 root root    9 Apr 14 07:19 README.md\n",
      "-rw-r--r-- 1 root root    6 Apr 14 07:50 output-00000-of-00001\n"
     ]
    }
   ],
   "source": [
    "%%bash\n",
    "ls -lh"
   ]
  },
  {
   "cell_type": "code",
   "execution_count": 58,
   "metadata": {
    "collapsed": false
   },
   "outputs": [
    {
     "name": "stdout",
     "output_type": "stream",
     "text": [
      "1\n",
      "2\n",
      "3\n"
     ]
    }
   ],
   "source": [
    "%%bash\n",
    "cat output-00000-of-00001"
   ]
  },
  {
   "cell_type": "code",
   "execution_count": null,
   "metadata": {
    "collapsed": true
   },
   "outputs": [],
   "source": []
  }
 ],
 "metadata": {
  "kernelspec": {
   "display_name": "Python 2",
   "language": "python",
   "name": "python2"
  },
  "language_info": {
   "codemirror_mode": {
    "name": "ipython",
    "version": 2
   },
   "file_extension": ".py",
   "mimetype": "text/x-python",
   "name": "python",
   "nbconvert_exporter": "python",
   "pygments_lexer": "ipython2",
   "version": "2.7.9"
  }
 },
 "nbformat": 4,
 "nbformat_minor": 2
}
